{
 "cells": [
  {
   "cell_type": "markdown",
   "id": "5c1e68c2",
   "metadata": {},
   "source": [
    "## Purpose of this notebook :\n",
    "In this notebook, we are trying to understand the points we couldn't understand clearly. And also we will deep dive into Pyrocko library. "
   ]
  },
  {
   "cell_type": "markdown",
   "id": "fb86d871",
   "metadata": {},
   "source": [
    "### Imports:"
   ]
  },
  {
   "cell_type": "markdown",
   "id": "b11d784f",
   "metadata": {},
   "source": [
    "Here you will need sim_fractal file to run this notebook. This will be in the same directory, so you can direclty run this notebook. That file contains green function solutions which will be needed to determine faults movement."
   ]
  },
  {
   "cell_type": "code",
   "execution_count": 1,
   "id": "a1f183b2",
   "metadata": {},
   "outputs": [],
   "source": [
    "import os.path\n",
    "import numpy as np\n",
    "from timeit import default_timer as timer\n",
    "import matplotlib.pyplot as plt\n",
    "import matplotlib\n",
    "import matplotlib.dates  as pdt\n",
    "from scipy.interpolate import griddata\n",
    "from pyrocko import gf\n",
    "import sim_fractal as frct"
   ]
  },
  {
   "cell_type": "markdown",
   "id": "d8e56da3",
   "metadata": {},
   "source": [
    "## Let's start:"
   ]
  },
  {
   "cell_type": "markdown",
   "id": "adfcba56",
   "metadata": {},
   "source": [
    "In the below cell, we define **store_id**. \n",
    "\n",
    "This store_id is used by pyrocko to download necessary file. In our case **store_id** is  **'gfs_ismetpasa'** since we are going to validate our results using real ismetpaşa data.\n",
    "\n",
    "**Caution**: This function will download the file only if 'gfs_ismetpasa' is not in the same directory. In our case, we have provided the data for you, so you don't need to download the data. So, although you will run the below cell, it will not download the data."
   ]
  },
  {
   "cell_type": "code",
   "execution_count": 2,
   "id": "deb0283f",
   "metadata": {},
   "outputs": [],
   "source": [
    "# Download a Greens Functions store\n",
    "store_id = 'gfs_ismetpasa' \n",
    "if not os.path.exists(store_id):\n",
    "    gf.ws.download_gf_store(site='kinherd', store_id=store_id)"
   ]
  },
  {
   "cell_type": "markdown",
   "id": "99d6bb46",
   "metadata": {},
   "source": [
    "site =  dictionary for urls\n",
    "* 'localhost': 'http://localhost:8080',\n",
    "*  'kinherd': 'http://kinherd.org:8080'"
   ]
  },
  {
   "cell_type": "code",
   "execution_count": 3,
   "id": "012e55e4",
   "metadata": {},
   "outputs": [],
   "source": [
    "# Setup the LocalEngine and point it to the fomosto store you just downloaded.\n",
    "# *store_superdirs* is a list of directories where to look for GF Stores.\n",
    "engine = gf.LocalEngine(store_superdirs=['.'])"
   ]
  },
  {
   "cell_type": "markdown",
   "id": "634a79e3",
   "metadata": {},
   "source": [
    "### Pyrocko Local Engine:\n",
    "* Offline synthetic seismogram calculator.\n"
   ]
  },
  {
   "cell_type": "markdown",
   "id": "eb81ba5d",
   "metadata": {},
   "source": [
    "Again, we are defining some constant. Here, slip corresponds to slip amount of three different layers. Each slip value is in mm.\n",
    "\n",
    "\n",
    "**Caution:** All of those constants are defined for one year period. In case you want to determine slip amounts for a smaller interval you should divide the slip value with 365.25 and  multiply with lenght of time interval in terms of day. \n",
    "\n",
    "$$ \\text{slip for specific interval} = \\frac{\\text{slip  value}}{365.25}* \\text{time interval}$$"
   ]
  },
  {
   "cell_type": "code",
   "execution_count": 4,
   "id": "2ec21859",
   "metadata": {},
   "outputs": [
    {
     "name": "stdout",
     "output_type": "stream",
     "text": [
      "[0.022, 0.015, 0.005]\n"
     ]
    }
   ],
   "source": [
    "km = 1e3       # for convenience\n",
    "yr = 365.25    # year length in day\n",
    "slip = [0.022, 0.015, 0.005] #slip values in mm\n",
    "print(slip)"
   ]
  },
  {
   "cell_type": "markdown",
   "id": "d3670e23",
   "metadata": {},
   "source": [
    "Here, we are creating temporal table, which gives information about our time flow.\n",
    "\n",
    "Here, \n",
    "* Ndate,   how many image will be produced\n",
    "* TempRsl, Temporal resolution, how long it takes for satellite to come back, in terms of day, \n",
    "* maxPB,   Perpendicular Baseline, the perpendicular distance between two passing of satellite from the same location.\n",
    "\n",
    "**Caution**: Although we know our model accepts images in 9 batches, here we produce 10 batches. This is because the first image produced will be empty. "
   ]
  },
  {
   "cell_type": "code",
   "execution_count": 5,
   "id": "95b2db58",
   "metadata": {},
   "outputs": [],
   "source": [
    "Ndate   = 10 \n",
    "TempRsl = 72 \n",
    "maxPB   = 250\n",
    "\n",
    "TempTbl = np.linspace(0, Ndate-1, Ndate) * TempRsl\n",
    "PerpBsl = np.random.randint(-maxPB, maxPB,size=Ndate)"
   ]
  },
  {
   "cell_type": "code",
   "execution_count": 6,
   "id": "568b8644",
   "metadata": {},
   "outputs": [
    {
     "data": {
      "text/plain": [
       "array([  0.,  72., 144., 216., 288., 360., 432., 504., 576., 648.])"
      ]
     },
     "execution_count": 6,
     "metadata": {},
     "output_type": "execute_result"
    }
   ],
   "source": [
    "TempTbl"
   ]
  },
  {
   "cell_type": "markdown",
   "id": "ffdc646d",
   "metadata": {},
   "source": [
    "As you see we have created a temporal table with 72 day interval."
   ]
  },
  {
   "cell_type": "markdown",
   "id": "4afed236",
   "metadata": {},
   "source": [
    "Below, we are giving the inital time for the first image. Then using temporal table, we get the date for other passings of the satellite.\n",
    "\n",
    "* PrmDt, data of first image\n",
    "* PrmNum, PrmDt in terms of day\n",
    "* ifgsNum, dates of interferogram shots, in terms of day\n",
    "* ifgsDtNum, dates of interferogram shots, in terms of date\n"
   ]
  },
  {
   "cell_type": "code",
   "execution_count": 7,
   "id": "6745e37d",
   "metadata": {},
   "outputs": [],
   "source": [
    "Prm = 0\n",
    "PrmDt = '2018-05-12'\n",
    "\n",
    "TempTbl   = np.subtract(TempTbl,TempTbl[Prm])\n",
    "PrmNum    = pdt.datestr2num(PrmDt) \n",
    "ifgsNum   = np.add(TempTbl,PrmNum)\n",
    "ifgsDtNum = pdt.num2date(ifgsNum)\n",
    "ifgsDt = []\n",
    "\n",
    "for i in range(len(TempTbl)):\n",
    "\tifgDt = str(ifgsDtNum[i].year)+'-'+str(ifgsDtNum[i].month)+'-'+str(ifgsDtNum[i].day)\n",
    "\tifgsDt.append(ifgDt)\n",
    "\n",
    "PerpBsl[Prm] = 0"
   ]
  },
  {
   "cell_type": "code",
   "execution_count": 8,
   "id": "a2cf26c1",
   "metadata": {},
   "outputs": [
    {
     "data": {
      "text/plain": [
       "17663.0"
      ]
     },
     "execution_count": 8,
     "metadata": {},
     "output_type": "execute_result"
    }
   ],
   "source": [
    "# PrmDt in terms of day\n",
    "PrmNum "
   ]
  },
  {
   "cell_type": "code",
   "execution_count": 9,
   "id": "a398f803",
   "metadata": {},
   "outputs": [
    {
     "data": {
      "text/plain": [
       "array([17663., 17735., 17807., 17879., 17951., 18023., 18095., 18167.,\n",
       "       18239., 18311.])"
      ]
     },
     "execution_count": 9,
     "metadata": {},
     "output_type": "execute_result"
    }
   ],
   "source": [
    "# dates of interferogram shots, in terms of day\n",
    "ifgsNum"
   ]
  },
  {
   "cell_type": "code",
   "execution_count": 10,
   "id": "41aa5c22",
   "metadata": {},
   "outputs": [
    {
     "data": {
      "text/plain": [
       "[datetime.datetime(2018, 5, 12, 0, 0, tzinfo=datetime.timezone.utc),\n",
       " datetime.datetime(2018, 7, 23, 0, 0, tzinfo=datetime.timezone.utc),\n",
       " datetime.datetime(2018, 10, 3, 0, 0, tzinfo=datetime.timezone.utc),\n",
       " datetime.datetime(2018, 12, 14, 0, 0, tzinfo=datetime.timezone.utc),\n",
       " datetime.datetime(2019, 2, 24, 0, 0, tzinfo=datetime.timezone.utc),\n",
       " datetime.datetime(2019, 5, 7, 0, 0, tzinfo=datetime.timezone.utc),\n",
       " datetime.datetime(2019, 7, 18, 0, 0, tzinfo=datetime.timezone.utc),\n",
       " datetime.datetime(2019, 9, 28, 0, 0, tzinfo=datetime.timezone.utc),\n",
       " datetime.datetime(2019, 12, 9, 0, 0, tzinfo=datetime.timezone.utc),\n",
       " datetime.datetime(2020, 2, 19, 0, 0, tzinfo=datetime.timezone.utc)]"
      ]
     },
     "execution_count": 10,
     "metadata": {},
     "output_type": "execute_result"
    }
   ],
   "source": [
    "# dates of interferogram shots, in terms of date\n",
    "ifgsDtNum"
   ]
  },
  {
   "cell_type": "markdown",
   "id": "4e0b5445",
   "metadata": {},
   "source": [
    "In some faults, we see creeps which last for some time and then stop and start moving again. \n",
    "Here we are calculating the displacement (in mm) for each creeping pathes and then outputs the sum of all the displacements. \n",
    "\n",
    "\n",
    "Here,\n",
    "* step, time between two creep \n",
    "* N, length of episodic creep events in day\n",
    "* crpSlip, slip amount\n",
    "* X, array for interferogram days\n",
    "* Y, show the amount of displacement"
   ]
  },
  {
   "cell_type": "code",
   "execution_count": 11,
   "id": "07fc4e9c",
   "metadata": {},
   "outputs": [],
   "source": [
    "###   Calculate Episodic Creep events \n",
    "step = 60\n",
    "N = 5 \n",
    "crpSlip  = slip[2]/N   \n",
    "crpStart = np.arange(2*N,int(np.max(ifgsNum))-int(np.min(ifgsNum))-3, step)\n",
    "X =  np.arange(1,int(np.max(ifgsNum))-int(np.min(ifgsNum)))\n",
    "Y = np.zeros(len(X), np.float32)  \n",
    "\n",
    "for i in crpStart:\n",
    "\tY[i-N:i+N] = np.logical_and(X[i-N:i+N]>=i-int(N/2),X[i-N:i+N]<=i+int(N/2)-1)\n",
    "\tY[i-N:i+N] = Y[i-N:i+N] * np.bartlett((i+N)-(i-N))*crpSlip\n"
   ]
  },
  {
   "cell_type": "code",
   "execution_count": 12,
   "id": "77178112",
   "metadata": {},
   "outputs": [
    {
     "data": {
      "text/plain": [
       "0.001"
      ]
     },
     "execution_count": 12,
     "metadata": {},
     "output_type": "execute_result"
    }
   ],
   "source": [
    "#amount of slip\n",
    "crpSlip"
   ]
  },
  {
   "cell_type": "code",
   "execution_count": 13,
   "id": "7514734d",
   "metadata": {},
   "outputs": [
    {
     "data": {
      "text/plain": [
       "array([ 10,  70, 130, 190, 250, 310, 370, 430, 490, 550, 610])"
      ]
     },
     "execution_count": 13,
     "metadata": {},
     "output_type": "execute_result"
    }
   ],
   "source": [
    "crpStart"
   ]
  },
  {
   "cell_type": "markdown",
   "id": "f2b12d15",
   "metadata": {},
   "source": [
    "\n",
    "### start of demonstration \n",
    "Here I will make you a litle demonstration of what happens inside that for loop:"
   ]
  },
  {
   "cell_type": "code",
   "execution_count": 14,
   "id": "3bb4b4a2",
   "metadata": {},
   "outputs": [],
   "source": [
    "#choose one i from crpStart array, here I choose i as 70\n",
    "i = 70"
   ]
  },
  {
   "cell_type": "markdown",
   "id": "9b535e06",
   "metadata": {},
   "source": [
    "now lets look at what happens inside the for loop:"
   ]
  },
  {
   "cell_type": "code",
   "execution_count": 15,
   "id": "df646a6b",
   "metadata": {},
   "outputs": [
    {
     "data": {
      "text/plain": [
       "array([False, False,  True,  True,  True,  True, False, False, False,\n",
       "       False])"
      ]
     },
     "execution_count": 15,
     "metadata": {},
     "output_type": "execute_result"
    }
   ],
   "source": [
    "np.logical_and(X[i-N:i+N]>=i-int(N/2),X[i-N:i+N]<=i+int(N/2)-1)\n",
    "# np.logical_and(X[65:75]>=68,X[65:75]<=71)"
   ]
  },
  {
   "cell_type": "markdown",
   "id": "8e009174",
   "metadata": {},
   "source": [
    "This produces an array with boolean arguments. Here we are dividing X into 2N wide chunks and look at the values. If those values are equal or higher then a specific threshold value then np.logical_and return True, otherwise False. I will print the X values for you so that you can convince yourself"
   ]
  },
  {
   "cell_type": "code",
   "execution_count": 16,
   "id": "701c2017",
   "metadata": {},
   "outputs": [
    {
     "data": {
      "text/plain": [
       "array([66, 67, 68, 69, 70, 71, 72, 73, 74, 75])"
      ]
     },
     "execution_count": 16,
     "metadata": {},
     "output_type": "execute_result"
    }
   ],
   "source": [
    "X[65:75]"
   ]
  },
  {
   "cell_type": "code",
   "execution_count": 17,
   "id": "2234d132",
   "metadata": {},
   "outputs": [],
   "source": [
    "Y[i-N:i+N] = Y[i-N:i+N] * np.bartlett((i+N)-(i-N))*crpSlip\n",
    "# Y[65:75] = Y[65:75] * np.bartlett((75)-(65)) * crpSlip"
   ]
  },
  {
   "cell_type": "markdown",
   "id": "75a5ae96",
   "metadata": {},
   "source": [
    "Here, we are creating values for Y, which has index True, with the barlett function and crpSlip, which is the amount of creep. \n",
    "\n",
    "The Bartlett window is very similar to a triangular window, except that the end points are at zero. It is often used in signal processing for tapering a signal, without generating too much ripple in the frequency domain. The parameter we have gave denotes the number of points in the output window. The output of this function is the triangular window, with the maximum value normalized to one with the first and last samples equal to zero."
   ]
  },
  {
   "cell_type": "code",
   "execution_count": 18,
   "id": "c6c546ee",
   "metadata": {},
   "outputs": [
    {
     "data": {
      "text/plain": [
       "array([0.0000000e+00, 0.0000000e+00, 1.9753087e-07, 4.4444445e-07,\n",
       "       7.9012347e-07, 7.9012347e-07, 0.0000000e+00, 0.0000000e+00,\n",
       "       0.0000000e+00, 0.0000000e+00], dtype=float32)"
      ]
     },
     "execution_count": 18,
     "metadata": {},
     "output_type": "execute_result"
    }
   ],
   "source": [
    "Y[65:75]"
   ]
  },
  {
   "cell_type": "markdown",
   "id": "dd4efb4d",
   "metadata": {},
   "source": [
    "### end of demonstration"
   ]
  },
  {
   "cell_type": "markdown",
   "id": "f188b70d",
   "metadata": {},
   "source": [
    "Here we are just defining coordinate system.\n",
    "\n",
    "For example, in the code below, our pixel will cover an area of 20 km-20km East-West, and 20km-20 km North-South"
   ]
  },
  {
   "cell_type": "code",
   "execution_count": 19,
   "id": "3be164a5",
   "metadata": {},
   "outputs": [],
   "source": [
    "###  Geographic (Ellipsoidal) Coordinate System \n",
    "E = [-20*km, 20*km] \n",
    "N = [-20*km, 20*km]\n",
    "\n",
    "grdSize      = 1*km  #pixel size\n",
    "Egrid, Ngrid = np.mgrid[E[0]:E[1]:grdSize, N[0]:N[1]:grdSize]\n",
    "Esize, Nsize = Egrid.shape"
   ]
  },
  {
   "cell_type": "markdown",
   "id": "ef7c16fd",
   "metadata": {},
   "source": [
    "In the below, you will find details to define satellite object. We initialize the satellite target and set the line of sight vectors direction. \n",
    "\n",
    "* look, angle between the LOS and the vertical, the difference between the first and second index must be at least 20 degrees.\n",
    "* heading, angle between the azimuth and the North (anti-clock), here it is defined for 3 satellite, plus and minus corresponds to ascending and descending motion of satellite.\n",
    "* lookA, look angle converted into radian\n",
    "\n"
   ]
  },
  {
   "cell_type": "code",
   "execution_count": 20,
   "id": "199ec925",
   "metadata": {},
   "outputs": [],
   "source": [
    "look    = [33., 54]\n",
    "heading = [-166, -90, -14, 14, 90, 166] # +90 ekle sentinel olması için \n",
    "                                        \n",
    "###  look angle is converted to Radian\n",
    "lookA = np.tile(np.linspace(np.deg2rad(look[0]), np.deg2rad(look[1]), Esize), Nsize)  # vertical LOS from horizontal"
   ]
  },
  {
   "cell_type": "markdown",
   "id": "63db6bc8",
   "metadata": {},
   "source": [
    "Now, we are going to calculate position of satellites. "
   ]
  },
  {
   "cell_type": "markdown",
   "id": "07d532e7",
   "metadata": {},
   "source": [
    "### Pyrocko Satellite:  \n",
    "\n",
    "First of all, satellite is a static target class in pyrocko. \n",
    "* Pyrocko-GF Targets are data structures holding observer properties to tell the framework what we want to model, e.g. whether we want to model a waveform or spectrum at a specific receiver site or displacement values at a set of locations. \n",
    "* Each target has properties (location, depth, physical quantity) and essentially is associated to a GF store, used for modelling. The target also defines the method used to interpolate the discrete, gridded GF components\n",
    "* Measurement quantity type, for now only displacement issupported.\n",
    "\n",
    "The SatelliteTarget defines the locations of displacement measurements and the direction of the measurement, which is the so-called line-of-sight of the radar. It is a static target.\n",
    "* A computation request for a spatial multi-location target of static/geodetic quantities measured from a satellite instrument. The line of sight angles are provided and projecting post-processing is applied.\n",
    "\n",
    "Parameters:\n",
    "* theta, numpy.ndarray,  Horizontal angle towards satellite’s line of sight in radians.\n",
    "    * Important 0 is east and $\\frac{\\pi}{2}$ is north.\n",
    "* phi numpy.ndarray, Phi is look vector elevation angle towards satellite from horizon in radians. \n",
    "* Returns: Target\n",
    "* Return type: list"
   ]
  },
  {
   "cell_type": "code",
   "execution_count": 21,
   "id": "4412df47",
   "metadata": {},
   "outputs": [],
   "source": [
    "STLT=[] \n",
    "for i in range(len(heading)):\n",
    "    phi = np.empty(Esize*Nsize)    # horizontal LOS from E in anti-clokwise rotation\n",
    "    phi.fill(np.deg2rad(heading[i]))\n",
    "    satellite_target = gf.SatelliteTarget(north_shifts=Ngrid, east_shifts=Egrid, tsnapshot=24. * 3600.,  # one day\n",
    "                                    interpolation='nearest_neighbor', phi=phi,theta=lookA,store_id=store_id)\n",
    "    STLT.append(satellite_target)"
   ]
  },
  {
   "cell_type": "markdown",
   "id": "800c91bb",
   "metadata": {},
   "source": [
    "### start of demonstartion:\n",
    "As it did in the previous cell lets define a list;\n"
   ]
  },
  {
   "cell_type": "code",
   "execution_count": 22,
   "id": "5a003575",
   "metadata": {},
   "outputs": [],
   "source": [
    "STLT_ =[] "
   ]
  },
  {
   "cell_type": "code",
   "execution_count": 23,
   "id": "f7bc337f",
   "metadata": {},
   "outputs": [
    {
     "data": {
      "text/plain": [
       "array([0.00000000e+000, 1.02271589e-321, 0.00000000e+000, ...,\n",
       "       2.20077938e-314, 5.50883195e-321, 2.20077930e-314])"
      ]
     },
     "execution_count": 23,
     "metadata": {},
     "output_type": "execute_result"
    }
   ],
   "source": [
    "i_ = 2\n",
    "phi_ = np.empty(Esize*Nsize)\n",
    "phi_"
   ]
  },
  {
   "cell_type": "code",
   "execution_count": 24,
   "id": "7523d859",
   "metadata": {},
   "outputs": [
    {
     "data": {
      "text/plain": [
       "-14"
      ]
     },
     "execution_count": 24,
     "metadata": {},
     "output_type": "execute_result"
    }
   ],
   "source": [
    "heading[i_]"
   ]
  },
  {
   "cell_type": "code",
   "execution_count": 25,
   "id": "a2ccaf70",
   "metadata": {},
   "outputs": [
    {
     "data": {
      "text/plain": [
       "array([-0.2443461, -0.2443461, -0.2443461, ..., -0.2443461, -0.2443461,\n",
       "       -0.2443461])"
      ]
     },
     "execution_count": 25,
     "metadata": {},
     "output_type": "execute_result"
    }
   ],
   "source": [
    "phi_.fill(np.deg2rad(heading[i_])) # dereceden radyana \n",
    "phi_"
   ]
  },
  {
   "cell_type": "code",
   "execution_count": 26,
   "id": "b324af7b",
   "metadata": {},
   "outputs": [
    {
     "data": {
      "text/plain": [
       "<pyrocko.gf.targets.SatelliteTarget at 0x15c7a2ad0>"
      ]
     },
     "execution_count": 26,
     "metadata": {},
     "output_type": "execute_result"
    }
   ],
   "source": [
    "satellite_target_ = gf.SatelliteTarget(north_shifts=Ngrid, east_shifts=Egrid, tsnapshot=24. * 3600.,  # one day\n",
    "                                    interpolation='nearest_neighbor', phi=phi,theta=lookA,store_id=store_id)\n",
    "satellite_target_"
   ]
  },
  {
   "cell_type": "code",
   "execution_count": 27,
   "id": "7d96333c",
   "metadata": {
    "scrolled": true
   },
   "outputs": [
    {
     "data": {
      "text/plain": [
       "['D',\n",
       " 'T',\n",
       " '_MultiLocation__T',\n",
       " '_SatelliteTarget__T',\n",
       " '_StaticTarget__T',\n",
       " '__class__',\n",
       " '__delattr__',\n",
       " '__dict__',\n",
       " '__dir__',\n",
       " '__doc__',\n",
       " '__doc_template__',\n",
       " '__eq__',\n",
       " '__format__',\n",
       " '__ge__',\n",
       " '__getattribute__',\n",
       " '__gt__',\n",
       " '__hash__',\n",
       " '__init__',\n",
       " '__init_subclass__',\n",
       " '__le__',\n",
       " '__lt__',\n",
       " '__module__',\n",
       " '__ne__',\n",
       " '__new__',\n",
       " '__reduce__',\n",
       " '__reduce_ex__',\n",
       " '__repr__',\n",
       " '__setattr__',\n",
       " '__sizeof__',\n",
       " '__str__',\n",
       " '__subclasshook__',\n",
       " '__weakref__',\n",
       " '_coords5',\n",
       " '_los_factors',\n",
       " 'base_key',\n",
       " 'coords5',\n",
       " 'distance_to',\n",
       " 'dummy_for',\n",
       " 'dummy_for_description',\n",
       " 'dump',\n",
       " 'dump_xml',\n",
       " 'east_shifts',\n",
       " 'elevation',\n",
       " 'get_corner_coords',\n",
       " 'get_latlon',\n",
       " 'get_los_factors',\n",
       " 'get_targets',\n",
       " 'interpolation',\n",
       " 'lats',\n",
       " 'load',\n",
       " 'load_xml',\n",
       " 'lons',\n",
       " 'ncoords',\n",
       " 'north_shifts',\n",
       " 'ntargets',\n",
       " 'phi',\n",
       " 'post_process',\n",
       " 'quantity',\n",
       " 'regularize',\n",
       " 'store_id',\n",
       " 'theta',\n",
       " 'tsnapshot',\n",
       " 'validate']"
      ]
     },
     "execution_count": 27,
     "metadata": {},
     "output_type": "execute_result"
    }
   ],
   "source": [
    "#Attributes of satellite target\n",
    "dir(satellite_target_)"
   ]
  },
  {
   "cell_type": "code",
   "execution_count": 28,
   "id": "266be11b",
   "metadata": {},
   "outputs": [],
   "source": [
    "del STLT_, i_, phi_, satellite_target_"
   ]
  },
  {
   "cell_type": "markdown",
   "id": "2e785653",
   "metadata": {},
   "source": [
    "### end of demonstration"
   ]
  },
  {
   "cell_type": "markdown",
   "id": "ef18c220",
   "metadata": {},
   "source": [
    "Here we are defining some properties of fault.\n",
    "* L[0] -> lenght of inersiesmic part // L[1] -> length of creeping patches,\n",
    "    * L in general define lenght of creeping patches\n",
    "* Wdth, width of fault\n",
    "* Dpth, distance of fault from the ground\n",
    "* strk, strike, the angle between the North and fault\n",
    "* dp, dip angle, angle between the fault and the normal to the ground\n",
    "* rk, rake, angle between the horizon of fault plane and the motion"
   ]
  },
  {
   "cell_type": "code",
   "execution_count": 29,
   "id": "4cb515eb",
   "metadata": {},
   "outputs": [],
   "source": [
    "L = np.multiply([50, 5], km) \n",
    "Wdth = np.multiply([100., 5.], km); \n",
    "Dpth = [Wdth[0]/2+10*km, Wdth[1]/2+0.5*km]\n",
    "strk=80.; dp=89.; rk=160.; Nshift = 5; crpMax = slip[1]; epsCrpId = [3,6];\n",
    "\n",
    "CRP = np.zeros((Nshift*2-1), np.float32)\n",
    "CRP[0] = crpMax\n",
    "shift = np.zeros((Nshift*2-1,2), np.float32)\n",
    "n = 1\n",
    "for i in range(1, len(shift),2):\n",
    "\tstep = n*L[1]\n",
    "\tCRP[i] = crpMax - (n*(crpMax/Nshift))\n",
    "\tCRP[i+1] = crpMax - (n*(crpMax/Nshift))\n",
    "\tshift[i,:] = np.multiply(step,[np.cos(np.deg2rad(90 - strk)), np.sin(np.deg2rad(90 - strk))])\n",
    "\tshift[i+1,:] = np.multiply(step*-1,[np.cos(np.deg2rad(90 - strk)), np.sin(np.deg2rad(90 - strk))])\n",
    "\tn += 1\n"
   ]
  },
  {
   "cell_type": "markdown",
   "id": "8992f017",
   "metadata": {},
   "source": [
    "### start of demonstration:"
   ]
  },
  {
   "cell_type": "code",
   "execution_count": 30,
   "id": "ac367fdc",
   "metadata": {},
   "outputs": [
    {
     "data": {
      "text/plain": [
       "array([50000.,  5000.])"
      ]
     },
     "execution_count": 30,
     "metadata": {},
     "output_type": "execute_result"
    }
   ],
   "source": [
    "L_ = np.multiply([50, 5], km) \n",
    "Wdth_ = np.multiply([100., 5.], km)\n",
    "Dpth_ = [Wdth_[0]/2+10*km, Wdth_[1]/2+0.5*km]\n",
    "L_"
   ]
  },
  {
   "cell_type": "code",
   "execution_count": 31,
   "id": "312659d8",
   "metadata": {},
   "outputs": [
    {
     "data": {
      "text/plain": [
       "array([0.015, 0.   , 0.   , 0.   , 0.   , 0.   , 0.   , 0.   , 0.   ],\n",
       "      dtype=float32)"
      ]
     },
     "execution_count": 31,
     "metadata": {},
     "output_type": "execute_result"
    }
   ],
   "source": [
    "CRP_ = np.zeros((Nshift*2-1), np.float32)\n",
    "CRP_[0] = crpMax\n",
    "CRP_"
   ]
  },
  {
   "cell_type": "code",
   "execution_count": 32,
   "id": "1fe53e7a",
   "metadata": {},
   "outputs": [
    {
     "data": {
      "text/plain": [
       "array([[0., 0.],\n",
       "       [0., 0.],\n",
       "       [0., 0.],\n",
       "       [0., 0.],\n",
       "       [0., 0.],\n",
       "       [0., 0.],\n",
       "       [0., 0.],\n",
       "       [0., 0.],\n",
       "       [0., 0.]], dtype=float32)"
      ]
     },
     "execution_count": 32,
     "metadata": {},
     "output_type": "execute_result"
    }
   ],
   "source": [
    "shift_ = np.zeros((Nshift*2-1,2), np.float32)\n",
    "shift_"
   ]
  },
  {
   "cell_type": "code",
   "execution_count": 33,
   "id": "0ecee994",
   "metadata": {},
   "outputs": [
    {
     "data": {
      "text/plain": [
       "array([0.015, 0.   , 0.   , 0.012, 0.012, 0.   , 0.   , 0.   , 0.   ],\n",
       "      dtype=float32)"
      ]
     },
     "execution_count": 33,
     "metadata": {},
     "output_type": "execute_result"
    }
   ],
   "source": [
    "n, i_ = 1, 3\n",
    "step_ = n*L_[1]\n",
    "CRP_[i_] = crpMax - (n*(crpMax/Nshift))\n",
    "CRP_[i_+1] = crpMax - (n*(crpMax/Nshift))\n",
    "CRP_"
   ]
  },
  {
   "cell_type": "code",
   "execution_count": 34,
   "id": "8f783e59",
   "metadata": {},
   "outputs": [
    {
     "data": {
      "text/plain": [
       "5000.0"
      ]
     },
     "execution_count": 34,
     "metadata": {},
     "output_type": "execute_result"
    }
   ],
   "source": [
    "step_"
   ]
  },
  {
   "cell_type": "code",
   "execution_count": 35,
   "id": "6dd0fbbb",
   "metadata": {},
   "outputs": [
    {
     "data": {
      "text/plain": [
       "array([[     0.    ,      0.    ],\n",
       "       [     0.    ,      0.    ],\n",
       "       [     0.    ,      0.    ],\n",
       "       [  4924.0386,    868.2409],\n",
       "       [-19696.154 ,  -3472.9636],\n",
       "       [     0.    ,      0.    ],\n",
       "       [     0.    ,      0.    ],\n",
       "       [     0.    ,      0.    ],\n",
       "       [     0.    ,      0.    ]], dtype=float32)"
      ]
     },
     "execution_count": 35,
     "metadata": {},
     "output_type": "execute_result"
    }
   ],
   "source": [
    "shift_[i_,:] = np.multiply(step_,[np.cos(np.deg2rad(90 - strk)), np.sin(np.deg2rad(90 - strk))])\n",
    "shift_[i_+1,:] = np.multiply(step*-1,[np.cos(np.deg2rad(90 - strk)), np.sin(np.deg2rad(90 - strk))])\n",
    "shift_"
   ]
  },
  {
   "cell_type": "code",
   "execution_count": 36,
   "id": "93f7723f",
   "metadata": {},
   "outputs": [],
   "source": [
    "del L_, i_, shift_, CRP_, step_"
   ]
  },
  {
   "cell_type": "markdown",
   "id": "d5fe6858",
   "metadata": {},
   "source": [
    "### end of demonstration"
   ]
  },
  {
   "cell_type": "markdown",
   "id": "485a09b6",
   "metadata": {},
   "source": [
    "Now is the fun part. Here we are starting to calculate interferograms. "
   ]
  },
  {
   "cell_type": "code",
   "execution_count": 38,
   "id": "88b5a38a",
   "metadata": {},
   "outputs": [],
   "source": [
    "VlosUltimate = []\n",
    "for i in range(1): #for loop for sattelite\n",
    "    \n",
    "    satellite_target=STLT[i%6] #we are assigning the satellite. \n",
    "    Vlos=[]\n",
    "    target=0\n",
    "    for ifg in np.arange(len(TempTbl)): #now, since we are creating batches of 10 interferograms this should be \n",
    "                                        #equal to the number of interferograms in a batch. \n",
    "                                        #for loop for interferogram\n",
    "        t = np.abs(TempTbl[ifg])\n",
    "        if ifg == 0:\n",
    "            continue\n",
    "\n",
    "        intSlip = (slip[0]/yr)*t\n",
    "        if   ifg < Prm:\n",
    "            epsCrp  = np.sum(Y[ifg:Prm])\n",
    "        elif ifg > Prm:\n",
    "            epsCrp  = np.sum(Y[Prm:int(t)])\n",
    "\n",
    "        start = timer()\n",
    "\n",
    "        intS_source = gf.RectangularSource( lat=0., lon=0., north_shift=0., east_shift=0.,\n",
    "                    depth=Dpth[0], width=Wdth[0], length=L[0], dip=dp, rake=rk, strike=strk, slip=intSlip)\n",
    "        intS_result = engine.process(intS_source, [satellite_target])\n",
    "        lat = intS_result.request.targets[target].coords5[:, 2]/km\n",
    "        lon = intS_result.request.targets[target].coords5[:, 3]/km\n",
    "        intS_los = intS_result.results_list[0][target].result['displacement.los']\n",
    "    \n",
    "        crp_los = np.zeros(Esize*Nsize, np.float32)\n",
    "        for i in range(len(CRP)): #for loop for creep \n",
    "            if (i in epsCrpId):\n",
    "                continue\n",
    "\n",
    "            crp = CRP[i]/yr*t\n",
    "            patchCrp_source = gf.RectangularSource( lat=0, lon=0, north_shift=shift[i,1], east_shift=shift[i,0],\n",
    "                    depth=Dpth[1], width=Wdth[1], length=L[1], dip=dp, rake=rk, strike=strk, slip=crp)\n",
    "            patchCrp_result = engine.process(patchCrp_source, [satellite_target])\n",
    "            patchCrp_los = patchCrp_result.results_list[0][target].result\n",
    "            crp_los = crp_los + patchCrp_los['displacement.los']\n",
    "\n",
    "\n",
    "        epsCrp_los = np.zeros(Esize*Nsize, np.float32)\n",
    "        sorce_ne   = np.zeros((5,len(epsCrpId)*2), np.float32)\n",
    "        for i in range(len(epsCrpId)):\n",
    "            patchEpsCrp_source = gf.RectangularSource( lat=0, lon=0, north_shift=shift[epsCrpId[i],1], east_shift=shift[epsCrpId[i],0],\n",
    "                    depth=Dpth[1], width=Wdth[1], length=L[1], dip=dp, rake=rk, strike=strk, slip=epsCrp)\n",
    "            patchEpsCrp_result = engine.process(patchEpsCrp_source, [satellite_target])\n",
    "            patchEpsCrp_los = patchEpsCrp_result.results_list[0][target].result\n",
    "            epsCrp_los = epsCrp_los + patchEpsCrp_los['displacement.los']\n",
    "            sorce_ne[:,i*2], sorce_ne[:,i*2+1] = patchEpsCrp_source.outline(cs='xy').T/km\n",
    "\n",
    "        Dlos = (intS_los + crp_los + epsCrp_los)*km\n",
    "        Vlos.append(Dlos)\n",
    "        \n",
    "    VlosUltimate.append(np.array(Vlos).reshape((9,40,40)))"
   ]
  },
  {
   "cell_type": "markdown",
   "id": "9eb83aea",
   "metadata": {},
   "source": [
    "### start of demonstration"
   ]
  },
  {
   "cell_type": "markdown",
   "id": "bec2ad69",
   "metadata": {},
   "source": [
    "Lets define a list like it has done in the previous cell. For the sake of simplicity we are going to show an example for one target and one interferogram"
   ]
  },
  {
   "cell_type": "code",
   "execution_count": 39,
   "id": "ebe708d8",
   "metadata": {},
   "outputs": [],
   "source": [
    "VlosUltimate_ = []\n",
    "i_= 3"
   ]
  },
  {
   "cell_type": "markdown",
   "id": "83e789c1",
   "metadata": {},
   "source": [
    "Now we will chose the satellite we are going to work with."
   ]
  },
  {
   "cell_type": "code",
   "execution_count": 40,
   "id": "64001a47",
   "metadata": {},
   "outputs": [],
   "source": [
    "satellite_target_ = STLT[i_%6]"
   ]
  },
  {
   "cell_type": "code",
   "execution_count": 41,
   "id": "bd200d31",
   "metadata": {},
   "outputs": [],
   "source": [
    "Vlos=[] #list to store interferograms, her 9'lu paket için \n",
    "target = 0  #?????????????????"
   ]
  },
  {
   "cell_type": "markdown",
   "id": "f02dc2b1",
   "metadata": {},
   "source": [
    "In the below cell we will start working on ............"
   ]
  },
  {
   "cell_type": "markdown",
   "id": "4740db8d",
   "metadata": {},
   "source": [
    "### Pyrocko RectangularSource\n",
    "* First of all its a part of source class. \n",
    "* Pyrocko-GF supports the simulation of various dislocation sources, focused on earthquake and volcano studies. \n",
    "\n",
    "There are two types of Sources, point and finite. Rectangular Source is a sub category of finite sources. It basicly corresponds to Rectangular fault plane.\n",
    "* Classical Haskell source model modified for bilateral rupture."
   ]
  },
  {
   "cell_type": "code",
   "execution_count": 42,
   "id": "37d2f9fa",
   "metadata": {},
   "outputs": [
    {
     "data": {
      "text/plain": [
       "<pyrocko.gf.seismosizer.RectangularSource at 0x15ed47d90>"
      ]
     },
     "execution_count": 42,
     "metadata": {},
     "output_type": "execute_result"
    }
   ],
   "source": [
    "intS_source_ = gf.RectangularSource( lat=0., lon=0., north_shift=0., east_shift=0.,\n",
    "            depth=Dpth[0], width=Wdth[0], length=L[0], dip=dp, rake=rk, strike=strk, slip=intSlip)\n",
    "intS_source_"
   ]
  },
  {
   "cell_type": "code",
   "execution_count": 43,
   "id": "9cad5170",
   "metadata": {
    "scrolled": true
   },
   "outputs": [
    {
     "data": {
      "text/plain": [
       "['D',\n",
       " 'T',\n",
       " '_Location__T',\n",
       " '_RectangularSource__T',\n",
       " '_SourceWithDerivedMagnitude__T',\n",
       " '_Source__T',\n",
       " '__class__',\n",
       " '__delattr__',\n",
       " '__dict__',\n",
       " '__dir__',\n",
       " '__doc__',\n",
       " '__doc_template__',\n",
       " '__eq__',\n",
       " '__format__',\n",
       " '__ge__',\n",
       " '__getattribute__',\n",
       " '__getitem__',\n",
       " '__gt__',\n",
       " '__hash__',\n",
       " '__init__',\n",
       " '__init_subclass__',\n",
       " '__iter__',\n",
       " '__le__',\n",
       " '__lt__',\n",
       " '__module__',\n",
       " '__ne__',\n",
       " '__new__',\n",
       " '__reduce__',\n",
       " '__reduce_ex__',\n",
       " '__repr__',\n",
       " '__setattr__',\n",
       " '__setitem__',\n",
       " '__sizeof__',\n",
       " '__str__',\n",
       " '__subclasshook__',\n",
       " '__weakref__',\n",
       " '_discretize',\n",
       " '_dparams_base',\n",
       " '_dparams_base_repeated',\n",
       " '_hash',\n",
       " '_latlon',\n",
       " 'aggressive_oversampling',\n",
       " 'anchor',\n",
       " 'azibazi_to',\n",
       " 'base_key',\n",
       " 'check_conflicts',\n",
       " 'clone',\n",
       " 'coords5',\n",
       " 'decimation_factor',\n",
       " 'depth',\n",
       " 'dip',\n",
       " 'discretize_basesource',\n",
       " 'discretized_source_class',\n",
       " 'distance_3d_to',\n",
       " 'distance_to',\n",
       " 'dummy_for',\n",
       " 'dummy_for_description',\n",
       " 'dump',\n",
       " 'dump_xml',\n",
       " 'east_shift',\n",
       " 'effective_lat',\n",
       " 'effective_latlon',\n",
       " 'effective_lon',\n",
       " 'effective_stf_post',\n",
       " 'effective_stf_pre',\n",
       " 'elevation',\n",
       " 'from_pyrocko_event',\n",
       " 'get_factor',\n",
       " 'get_magnitude',\n",
       " 'get_moment',\n",
       " 'get_nucleation_abs_coord',\n",
       " 'get_slip_shear',\n",
       " 'get_slip_tensile',\n",
       " 'grid',\n",
       " 'keys',\n",
       " 'lat',\n",
       " 'length',\n",
       " 'load',\n",
       " 'load_xml',\n",
       " 'lon',\n",
       " 'magnitude',\n",
       " 'name',\n",
       " 'north_shift',\n",
       " 'nucleation_x',\n",
       " 'nucleation_y',\n",
       " 'offset_to',\n",
       " 'opening_fraction',\n",
       " 'outline',\n",
       " 'points_on_source',\n",
       " 'pyrocko_event',\n",
       " 'pyrocko_moment_tensor',\n",
       " 'rake',\n",
       " 'regularize',\n",
       " 'same_origin',\n",
       " 'set_origin',\n",
       " 'slip',\n",
       " 'stf',\n",
       " 'stf_mode',\n",
       " 'strike',\n",
       " 'time',\n",
       " 'update',\n",
       " 'validate',\n",
       " 'velocity',\n",
       " 'width']"
      ]
     },
     "execution_count": 43,
     "metadata": {},
     "output_type": "execute_result"
    }
   ],
   "source": [
    "dir(intS_source_)"
   ]
  },
  {
   "cell_type": "markdown",
   "id": "e0fc5c01",
   "metadata": {},
   "source": [
    "### Pyrocko engine.process\n",
    "* Process a request\n",
    "* Returns: Response object: Resonse object to a synthetic seismogram computation request.\n",
    "\n",
    "In the below cell it produces response according to the satellite we have chosen ??????? sOR"
   ]
  },
  {
   "cell_type": "code",
   "execution_count": 44,
   "id": "0ce1e32c",
   "metadata": {},
   "outputs": [
    {
     "data": {
      "text/plain": [
       "<pyrocko.gf.seismosizer.Response at 0x10ec0e530>"
      ]
     },
     "execution_count": 44,
     "metadata": {},
     "output_type": "execute_result"
    }
   ],
   "source": [
    "intS_result_ = engine.process(intS_source_, [satellite_target_])\n",
    "intS_result_"
   ]
  },
  {
   "cell_type": "code",
   "execution_count": 45,
   "id": "a575f2e0",
   "metadata": {
    "scrolled": true
   },
   "outputs": [
    {
     "data": {
      "text/plain": [
       "['D',\n",
       " 'T',\n",
       " '_Response__T',\n",
       " '__class__',\n",
       " '__delattr__',\n",
       " '__dict__',\n",
       " '__dir__',\n",
       " '__doc__',\n",
       " '__doc_template__',\n",
       " '__eq__',\n",
       " '__format__',\n",
       " '__ge__',\n",
       " '__getattribute__',\n",
       " '__gt__',\n",
       " '__hash__',\n",
       " '__init__',\n",
       " '__init_subclass__',\n",
       " '__le__',\n",
       " '__lt__',\n",
       " '__module__',\n",
       " '__ne__',\n",
       " '__new__',\n",
       " '__reduce__',\n",
       " '__reduce_ex__',\n",
       " '__repr__',\n",
       " '__setattr__',\n",
       " '__sizeof__',\n",
       " '__str__',\n",
       " '__subclasshook__',\n",
       " '__weakref__',\n",
       " 'dummy_for',\n",
       " 'dummy_for_description',\n",
       " 'dump',\n",
       " 'dump_xml',\n",
       " 'iter_results',\n",
       " 'kite_scenes',\n",
       " 'load',\n",
       " 'load_xml',\n",
       " 'pyrocko_traces',\n",
       " 'regularize',\n",
       " 'request',\n",
       " 'results_list',\n",
       " 'snuffle',\n",
       " 'static_results',\n",
       " 'stats',\n",
       " 'validate']"
      ]
     },
     "execution_count": 45,
     "metadata": {},
     "output_type": "execute_result"
    }
   ],
   "source": [
    "dir(intS_result_)"
   ]
  },
  {
   "cell_type": "markdown",
   "id": "722e630f",
   "metadata": {},
   "source": [
    "### Pyrocko .request.targets\n",
    "* return list of targets for which to produce synthetics."
   ]
  },
  {
   "cell_type": "code",
   "execution_count": 54,
   "id": "6081d980",
   "metadata": {},
   "outputs": [
    {
     "data": {
      "text/plain": [
       "array([[     0.,      0., -20000., -20000.,      0.],\n",
       "       [     0.,      0., -19000., -20000.,      0.],\n",
       "       [     0.,      0., -18000., -20000.,      0.],\n",
       "       ...,\n",
       "       [     0.,      0.,  17000.,  19000.,      0.],\n",
       "       [     0.,      0.,  18000.,  19000.,      0.],\n",
       "       [     0.,      0.,  19000.,  19000.,      0.]])"
      ]
     },
     "execution_count": 54,
     "metadata": {},
     "output_type": "execute_result"
    }
   ],
   "source": [
    "intS_result_.request.targets[target].coords5 "
   ]
  },
  {
   "cell_type": "code",
   "execution_count": 73,
   "id": "5f893207",
   "metadata": {},
   "outputs": [
    {
     "data": {
      "text/plain": [
       "array([-20., -19., -18., ...,  17.,  18.,  19.])"
      ]
     },
     "execution_count": 73,
     "metadata": {},
     "output_type": "execute_result"
    }
   ],
   "source": [
    "lat_ = intS_result_.request.targets[target].coords5[:, 2]/km\n",
    "lat_"
   ]
  },
  {
   "cell_type": "code",
   "execution_count": 74,
   "id": "9c21feea",
   "metadata": {},
   "outputs": [
    {
     "data": {
      "text/plain": [
       "array([-20., -20., -20., ...,  19.,  19.,  19.])"
      ]
     },
     "execution_count": 74,
     "metadata": {},
     "output_type": "execute_result"
    }
   ],
   "source": [
    "lon_ = intS_result_.request.targets[target].coords5[:, 3]/km\n",
    "lon_"
   ]
  },
  {
   "cell_type": "markdown",
   "id": "61235bf8",
   "metadata": {},
   "source": [
    "### Pyrocko intS_result.results_list[0][target].result['displacement.los']\n",
    " * intS_result is a request object.\n",
    " * from tahta request object we can each list of list of pyrocko.gf.meta.SeismosizerResult objects objects via result_list SONRA NEREYE GİDİYOR ANLAMADIM. **!!!!!!!!!!**"
   ]
  },
  {
   "cell_type": "code",
   "execution_count": null,
   "id": "bfe6f06f",
   "metadata": {},
   "outputs": [],
   "source": [
    "## SORU: burada .d neye karşılık geliyor ? "
   ]
  },
  {
   "cell_type": "code",
   "execution_count": 81,
   "id": "f6cfd82e",
   "metadata": {},
   "outputs": [
    {
     "data": {
      "text/plain": [
       "{'displacement.n': array([-0.0071239 , -0.00714914, -0.00702752, ...,  0.00142702,\n",
       "         0.00152402,  0.00155819], dtype=float32),\n",
       " 'displacement.e': array([-0.00492412, -0.00501846, -0.00507151, ...,  0.00249434,\n",
       "         0.00248692,  0.00247216], dtype=float32),\n",
       " 'displacement.d': array([-0.00492216, -0.00506668, -0.00512741, ...,  0.00051213,\n",
       "         0.00040777,  0.00040509], dtype=float32),\n",
       " 'displacement.los': array([-0.00277164, -0.00270098, -0.00261115, ...,  0.00125868,\n",
       "         0.00132852,  0.00130379])}"
      ]
     },
     "execution_count": 81,
     "metadata": {},
     "output_type": "execute_result"
    }
   ],
   "source": [
    "intS_result_.results_list[0][target].result #north, east, ...., los"
   ]
  },
  {
   "cell_type": "code",
   "execution_count": 75,
   "id": "d52d367e",
   "metadata": {},
   "outputs": [
    {
     "data": {
      "text/plain": [
       "array([-0.00277164, -0.00270098, -0.00261115, ...,  0.00125868,\n",
       "        0.00132852,  0.00130379])"
      ]
     },
     "execution_count": 75,
     "metadata": {},
     "output_type": "execute_result"
    }
   ],
   "source": [
    "intS_los_ = intS_result_.results_list[0][target].result['displacement.los']\n",
    "intS_los_"
   ]
  },
  {
   "cell_type": "markdown",
   "id": "1dbf3ae7",
   "metadata": {},
   "source": [
    "Now we will denote the number of interferogram we are working on with ifg."
   ]
  },
  {
   "cell_type": "code",
   "execution_count": 82,
   "id": "0a305241",
   "metadata": {},
   "outputs": [],
   "source": [
    "ifg_ = 5"
   ]
  },
  {
   "cell_type": "code",
   "execution_count": 83,
   "id": "915f91ca",
   "metadata": {},
   "outputs": [
    {
     "data": {
      "text/plain": [
       "360.0"
      ]
     },
     "execution_count": 83,
     "metadata": {},
     "output_type": "execute_result"
    }
   ],
   "source": [
    "t_ = np.abs(TempTbl[ifg_])\n",
    "t_"
   ]
  },
  {
   "cell_type": "code",
   "execution_count": 85,
   "id": "9c81d812",
   "metadata": {},
   "outputs": [],
   "source": [
    "if ifg_ == 0:\n",
    "    pass\n",
    "if   ifg_ < Prm:\n",
    "    epsCrp_  = np.sum(Y[ifg_:Prm])\n",
    "elif ifg_ > Prm:\n",
    "    epsCrp_  = np.sum(Y[Prm:int(t_)])\n",
    "    \n"
   ]
  },
  {
   "cell_type": "code",
   "execution_count": 86,
   "id": "9ea62bb6",
   "metadata": {},
   "outputs": [
    {
     "data": {
      "text/plain": [
       "0.02889111"
      ]
     },
     "execution_count": 86,
     "metadata": {},
     "output_type": "execute_result"
    }
   ],
   "source": [
    "epsCrp"
   ]
  },
  {
   "cell_type": "code",
   "execution_count": 90,
   "id": "0ad35b1b",
   "metadata": {},
   "outputs": [
    {
     "data": {
      "text/plain": [
       "365.25"
      ]
     },
     "execution_count": 90,
     "metadata": {},
     "output_type": "execute_result"
    }
   ],
   "source": [
    "yr"
   ]
  },
  {
   "cell_type": "code",
   "execution_count": 91,
   "id": "f0a65739",
   "metadata": {},
   "outputs": [
    {
     "data": {
      "text/plain": [
       "0.02168377823408624"
      ]
     },
     "execution_count": 91,
     "metadata": {},
     "output_type": "execute_result"
    }
   ],
   "source": [
    "intSlip_ = (slip[0]/yr) * t_ # slip miktarını tüm yıla bölüp istediğimiz gün sayısıyla çarpıyoruz. \n",
    "intSlip_"
   ]
  },
  {
   "cell_type": "code",
   "execution_count": null,
   "id": "5f80b0cf",
   "metadata": {},
   "outputs": [],
   "source": [
    "crp_los = np.zeros(Esize*Nsize, np.float32)\n",
    "for i in range(len(CRP)):\n",
    "    if (i in epsCrpId):\n",
    "        continue\n",
    "\n",
    "    crp = CRP[i]/yr*t\n",
    "    patchCrp_source = gf.RectangularSource( lat=0, lon=0, north_shift=shift[i,1], east_shift=shift[i,0],\n",
    "            depth=Dpth[1], width=Wdth[1], length=L[1], dip=dp, rake=rk, strike=strk, slip=crp)\n",
    "    patchCrp_result = engine.process(patchCrp_source, [satellite_target])\n",
    "    patchCrp_los = patchCrp_result.results_list[0][target].result\n",
    "    crp_los = crp_los + patchCrp_los['displacement.los']\n",
    "\n",
    "\n",
    "epsCrp_los = np.zeros(Esize*Nsize, np.float32)\n",
    "sorce_ne   = np.zeros((5,len(epsCrpId)*2), np.float32)\n",
    "for i in range(len(epsCrpId)):\n",
    "    patchEpsCrp_source = gf.RectangularSource( lat=0, lon=0, north_shift=shift[epsCrpId[i],1], east_shift=shift[epsCrpId[i],0],\n",
    "            depth=Dpth[1], width=Wdth[1], length=L[1], dip=dp, rake=rk, strike=strk, slip=epsCrp)\n",
    "    patchEpsCrp_result = engine.process(patchEpsCrp_source, [satellite_target])\n",
    "    patchEpsCrp_los = patchEpsCrp_result.results_list[0][target].result\n",
    "    epsCrp_los = epsCrp_los + patchEpsCrp_los['displacement.los']\n",
    "    sorce_ne[:,i*2], sorce_ne[:,i*2+1] = patchEpsCrp_source.outline(cs='xy').T/km\n",
    "\n",
    "Dlos = (intS_los + crp_los + epsCrp_los)*km\n",
    "Vlos.append(Dlos)\n",
    "\n",
    "VlosUltimate.append(np.array(Vlos).reshape((9,40,40)))"
   ]
  },
  {
   "cell_type": "code",
   "execution_count": null,
   "id": "2957c157",
   "metadata": {},
   "outputs": [],
   "source": []
  },
  {
   "cell_type": "markdown",
   "id": "efc9e1bf",
   "metadata": {},
   "source": [
    "### Pyrocko  patchEpsCrp_source.outline(cs='xy'):\n",
    "* outline(cs='xyz')\n",
    "* It is under the  PseudoDynamicRupture class. How it is related to RectangularSource class.????????????\n",
    "* Get source outline corner coordinates.\n",
    "\n",
    "* Parameters:\n",
    "    * cs (optional, str) – Output coordinate system.\n",
    "* Returns:\n",
    "    * Corner points in desired coordinate system.\n",
    "* Return type:\n",
    "    * ndarray: "
   ]
  },
  {
   "cell_type": "code",
   "execution_count": null,
   "id": "2e687ca1",
   "metadata": {},
   "outputs": [],
   "source": []
  },
  {
   "cell_type": "code",
   "execution_count": null,
   "id": "ab2c765c",
   "metadata": {},
   "outputs": [],
   "source": []
  },
  {
   "cell_type": "code",
   "execution_count": null,
   "id": "1a139d3a",
   "metadata": {},
   "outputs": [],
   "source": []
  },
  {
   "cell_type": "code",
   "execution_count": null,
   "id": "3c21bbdc",
   "metadata": {},
   "outputs": [],
   "source": []
  },
  {
   "cell_type": "code",
   "execution_count": null,
   "id": "ec18126d",
   "metadata": {},
   "outputs": [],
   "source": []
  },
  {
   "cell_type": "code",
   "execution_count": null,
   "id": "aaf09c78",
   "metadata": {},
   "outputs": [],
   "source": []
  },
  {
   "cell_type": "code",
   "execution_count": null,
   "id": "12ea3c26",
   "metadata": {},
   "outputs": [],
   "source": []
  },
  {
   "cell_type": "code",
   "execution_count": null,
   "id": "1acc1858",
   "metadata": {},
   "outputs": [],
   "source": []
  },
  {
   "cell_type": "code",
   "execution_count": null,
   "id": "e910bf6e",
   "metadata": {},
   "outputs": [],
   "source": []
  },
  {
   "cell_type": "code",
   "execution_count": null,
   "id": "0ddd67d3",
   "metadata": {},
   "outputs": [],
   "source": []
  },
  {
   "cell_type": "code",
   "execution_count": null,
   "id": "e0ee8d74",
   "metadata": {},
   "outputs": [],
   "source": []
  },
  {
   "cell_type": "markdown",
   "id": "901630d0",
   "metadata": {},
   "source": [
    "Below cell creates tropospheric noise."
   ]
  },
  {
   "cell_type": "code",
   "execution_count": 18,
   "id": "ebd993b8",
   "metadata": {},
   "outputs": [],
   "source": [
    "###  Tropospheri Turbulance \n",
    "\n",
    "trbc_list  = []\n",
    "for i in range(180):\n",
    "    \n",
    "    trbl = frct.fractal_surface_atmos(shape=(Nsize, Esize), resolution=grdSize/10, p0=1.00, freq0=1e-3,\n",
    "                                      regime=(0.01, 0.9999, 1.0), beta=(5./3., 8./3., 2./3.))\n",
    "    trbc_list.append(trbl)\n"
   ]
  },
  {
   "cell_type": "markdown",
   "id": "180d0cea",
   "metadata": {},
   "source": [
    "## Just for sanity check"
   ]
  },
  {
   "cell_type": "markdown",
   "id": "199afa21",
   "metadata": {},
   "source": [
    "### Just displacement"
   ]
  },
  {
   "cell_type": "code",
   "execution_count": 19,
   "id": "468e607b",
   "metadata": {},
   "outputs": [
    {
     "data": {
      "image/png": "[encoded data removed]",
      "text/plain": [
       "<Figure size 1300x100 with 9 Axes>"
      ]
     },
     "metadata": {},
     "output_type": "display_data"
    }
   ],
   "source": [
    "fig, (s0,s1,s2,s3,s4,s5,s6,s7,s8) = plt.subplots(1, 9, figsize = (13,1))\n",
    "i=3\n",
    "s0.title.set_text('displacement  ')\n",
    "s0.imshow(VlosUltimate[i][0], interpolation=\"nearest\")\n",
    "s0.invert_yaxis()\n",
    "s1.imshow(VlosUltimate[i][1].reshape(Egrid.shape, order = \"F\"), interpolation=\"nearest\")\n",
    "s1.invert_yaxis()\n",
    "s2.imshow(VlosUltimate[i][2].reshape(Egrid.shape, order = \"F\"), interpolation=\"nearest\")\n",
    "s2.invert_yaxis()\n",
    "s3.imshow(VlosUltimate[i][3].reshape(Egrid.shape, order = \"F\"), interpolation=\"nearest\")\n",
    "s3.invert_yaxis()\n",
    "s4.imshow(VlosUltimate[i][4].reshape(Egrid.shape, order = \"F\"), interpolation=\"nearest\")\n",
    "s4.invert_yaxis()\n",
    "s5.imshow(VlosUltimate[i][5].reshape(Egrid.shape, order = \"F\"), interpolation=\"nearest\")\n",
    "s5.invert_yaxis()\n",
    "s6.imshow(VlosUltimate[i][6].reshape(Egrid.shape, order = \"F\"), interpolation=\"nearest\")\n",
    "s6.invert_yaxis()\n",
    "s7.imshow(VlosUltimate[i][7].reshape(Egrid.shape, order = \"F\"), interpolation=\"nearest\")\n",
    "s7.invert_yaxis()\n",
    "s8.imshow(VlosUltimate[i][8].reshape(Egrid.shape, order = \"F\"), interpolation=\"nearest\")\n",
    "s8.invert_yaxis()\n",
    "\n",
    "plt.show()\n",
    "\n"
   ]
  },
  {
   "cell_type": "markdown",
   "id": "9630d962",
   "metadata": {},
   "source": [
    "### displacement + noise"
   ]
  },
  {
   "cell_type": "code",
   "execution_count": 20,
   "id": "bc9fe380",
   "metadata": {},
   "outputs": [],
   "source": [
    "new_data = np.zeros((5,9,40,40))\n",
    "for i in range(45):\n",
    "    new_data[i//9][i - (i//9) * 9] = np.array(trbc_list[i]) + np.array(VlosUltimate[i//9][i - (i//9) * 9])"
   ]
  },
  {
   "cell_type": "code",
   "execution_count": 21,
   "id": "bca207f6",
   "metadata": {},
   "outputs": [
    {
     "data": {
      "image/png": "[encoded data removed]",
      "text/plain": [
       "<Figure size 1300x100 with 9 Axes>"
      ]
     },
     "metadata": {},
     "output_type": "display_data"
    }
   ],
   "source": [
    "fig, (s0,s1,s2,s3,s4,s5,s6,s7,s8) = plt.subplots(1, 9, figsize = (13,1))\n",
    "i=4\n",
    "s0.title.set_text('displacement + noise  ')\n",
    "s0.imshow(new_data[i][0], interpolation=\"nearest\")\n",
    "s0.invert_yaxis()\n",
    "s1.imshow(new_data[i][1], interpolation=\"nearest\")\n",
    "s1.invert_yaxis()\n",
    "s2.imshow(new_data[i][2], interpolation=\"nearest\")\n",
    "s2.invert_yaxis()\n",
    "s3.imshow(new_data[i][3], interpolation=\"nearest\")\n",
    "s3.invert_yaxis()\n",
    "s4.imshow(new_data[i][4], interpolation=\"nearest\")\n",
    "s4.invert_yaxis()\n",
    "s5.imshow(new_data[i][5], interpolation=\"nearest\")\n",
    "s5.invert_yaxis()\n",
    "s6.imshow(new_data[i][6], interpolation=\"nearest\")\n",
    "s6.invert_yaxis()\n",
    "s7.imshow(new_data[i][7], interpolation=\"nearest\")\n",
    "s7.invert_yaxis()\n",
    "s8.imshow(new_data[i][8], interpolation=\"nearest\")\n",
    "s8.invert_yaxis()\n",
    "\n",
    "plt.show()"
   ]
  },
  {
   "cell_type": "code",
   "execution_count": null,
   "id": "fe2f4687",
   "metadata": {},
   "outputs": [],
   "source": []
  }
 ],
 "metadata": {
  "kernelspec": {
   "display_name": "Python 3 (ipykernel)",
   "language": "python",
   "name": "python3"
  },
  "language_info": {
   "codemirror_mode": {
    "name": "ipython",
    "version": 3
   },
   "file_extension": ".py",
   "mimetype": "text/x-python",
   "name": "python",
   "nbconvert_exporter": "python",
   "pygments_lexer": "ipython3",
   "version": "3.10.5"
  }
 },
 "nbformat": 4,
 "nbformat_minor": 5
}
