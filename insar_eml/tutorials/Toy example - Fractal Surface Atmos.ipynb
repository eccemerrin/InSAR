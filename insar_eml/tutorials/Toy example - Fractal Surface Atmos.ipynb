{
 "cells": [
  {
   "cell_type": "code",
   "execution_count": 3,
   "id": "720a6b1e",
   "metadata": {},
   "outputs": [],
   "source": [
    "import sim_fractal as frc"
   ]
  },
  {
   "cell_type": "code",
   "execution_count": 4,
   "id": "d1c3a04c",
   "metadata": {},
   "outputs": [
    {
     "data": {
      "text/plain": [
       "['__builtins__',\n",
       " '__cached__',\n",
       " '__doc__',\n",
       " '__file__',\n",
       " '__loader__',\n",
       " '__name__',\n",
       " '__package__',\n",
       " '__spec__',\n",
       " 'crop_data_max_square_p2',\n",
       " 'fractal_surface_atmos',\n",
       " 'get_power_spectral_density',\n",
       " 'np',\n",
       " 'os',\n",
       " 'plt',\n",
       " 'power_slope',\n",
       " 'radial_average_spectrum',\n",
       " 'recon_power_spectral_density']"
      ]
     },
     "execution_count": 4,
     "metadata": {},
     "output_type": "execute_result"
    }
   ],
   "source": [
    "dir(frc)"
   ]
  },
  {
   "cell_type": "markdown",
   "id": "4656e63c",
   "metadata": {},
   "source": [
    "The behavior of atmospheric signal in radar interferograms can be mathematically described using several interrelated measures such as the power spectrum, the covariance function, the structure function, and the fractal dimension. \n",
    "\n",
    "The power spectrum is useful to recognize scaling properties of the data or to distinguish different scaling regimes. Such Fourier-domain representations enable elegant descriptions of, e.g., filter operations and fast processing algorithms. A disadvantage is that Fourier methods require data sampled on a regular grid (Chilès and Delfiner, 1999). The spectrum of the grid is identical to the spectrum of the underlying continuous signal only if frequencies higher than the Nyquist frequency do not occur in the signal, either because they do not exist or because they are removed before sampling. Hence, the bandwidth of the grid spectrum needs to be smaller than the Nyquist frequency.\n",
    "For the SAR data this condition is usually satisfied."
   ]
  },
  {
   "cell_type": "code",
   "execution_count": null,
   "id": "ff767423",
   "metadata": {},
   "outputs": [],
   "source": []
  },
  {
   "cell_type": "code",
   "execution_count": null,
   "id": "ba662736",
   "metadata": {},
   "outputs": [],
   "source": []
  },
  {
   "cell_type": "code",
   "execution_count": null,
   "id": "2a8d7167",
   "metadata": {},
   "outputs": [],
   "source": []
  },
  {
   "cell_type": "code",
   "execution_count": null,
   "id": "c59048a1",
   "metadata": {},
   "outputs": [],
   "source": []
  },
  {
   "cell_type": "markdown",
   "id": "503b380d",
   "metadata": {},
   "source": [
    "Power law behaviour :\n",
    "In statistics, a power law is a functional relationship between two quantities, where a relative change in one quantity results in a relative change in the other quantity proportional to a power of the change, independent of the initial size of those quantities: one quantity varies as a power of another. For instance, considering the area of a square in terms of the length of its side, if the length is doubled, the area is multiplied by a factor of four.\n",
    "\n"
   ]
  }
 ],
 "metadata": {
  "kernelspec": {
   "display_name": "Python 3 (ipykernel)",
   "language": "python",
   "name": "python3"
  },
  "language_info": {
   "codemirror_mode": {
    "name": "ipython",
    "version": 3
   },
   "file_extension": ".py",
   "mimetype": "text/x-python",
   "name": "python",
   "nbconvert_exporter": "python",
   "pygments_lexer": "ipython3",
   "version": "3.10.5"
  }
 },
 "nbformat": 4,
 "nbformat_minor": 5
}
