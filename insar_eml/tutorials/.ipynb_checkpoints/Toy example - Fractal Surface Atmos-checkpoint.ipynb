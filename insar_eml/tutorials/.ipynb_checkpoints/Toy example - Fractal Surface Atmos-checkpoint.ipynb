{
 "cells": [
  {
   "cell_type": "code",
   "execution_count": 2,
   "id": "720a6b1e",
   "metadata": {},
   "outputs": [],
   "source": [
    "import sim_fractal as frc\n",
    "import numpy as np"
   ]
  },
  {
   "cell_type": "markdown",
   "id": "e563d11f",
   "metadata": {},
   "source": [
    "In this notebook we are goint go explore fractal_surface_atmos function:"
   ]
  },
  {
   "cell_type": "markdown",
   "id": "e4d97d74",
   "metadata": {},
   "source": [
    "Function **fractal_surface_atmos**:\n",
    "* This function simulates an isotropic 2D fractal surface with a power law behavior.\n",
    "* The fractal surface represents turbulence at different scales.\n",
    "\n",
    "\n",
    "* The input parameters are:\n",
    "    * shape: Tuple of 2 integers representing the number of rows and columns of the fractal surface.\n",
    "    * resolution: Float representing the spatial resolution in meters.\n",
    "    * p0: Float representing the multiplier of power spectral density in square meters.\n",
    "    * regime: Tuple of 3 floats representing the cumulative percentage of the spectrum covered by a specific power law exponent (beta) at different scales.\n",
    "    * beta: Tuple of 3 floats representing the power law exponents for a 1D profile of the data.\n",
    "    * display: Boolean indicating whether to display the simulation result or not.\n",
    "    * figname: String representing the filename for saving the displayed figure (optional).\n",
    "    \n",
    "    \n",
    "* The function returns a 2D numpy array (fsurf) representing the simulated fractal surface. \n",
    "    * In terms of real-world interpretation, the 2D array can be thought of as a spatial representation of the fractal surface. Each element in the array corresponds to a specific location or point in the simulated surface. The grid can be viewed as a Cartesian coordinate system, where the rows and columns represent the X and Y coordinates, respectively. The size and spacing of the grid cells are determined by the resolution parameter, which represents the spatial resolution of the fractal surface in meters. Therefore, the size of each grid cell corresponds to the specified resolution."
   ]
  },
  {
   "cell_type": "markdown",
   "id": "88740919",
   "metadata": {},
   "source": [
    "**Why we use np.fft.fftshift() ?**\n",
    "- The fft() function will return the approximation of the DFT with omega (radians/s) from 0 to pi (i.e. 0 to fs, where fs is the sampling frequency). All fftshift() does is swap the output vector of the fft() right down the middle. So the output of fftshift(fft()) is now from -pi/2 to pi/2.\n",
    "\n",
    "- Usually, people like to plot a good approximation of the DTFT (or maybe even the CTFT) using the FFT, so they zero-pad the input with a huge amount of zeros (the function fft() does this on it's own) and then they use the fftshift() function to plot between -pi and pi."
   ]
  },
  {
   "cell_type": "code",
   "execution_count": null,
   "id": "ba662736",
   "metadata": {},
   "outputs": [],
   "source": [
    "def fractal_surface_atmos(shape=(128, 128), resolution=60., p0=1., freq0=1e-3,\n",
    "                          regime=(0.80, 0.99, 1.0), beta=(5./3., 8./3., 2./3.),\n",
    "                          display=False, figname=None):\n",
    "\"\"\"\n",
    "    regime=[0.001, 0.999, 1.0] for larger scale turbulence\n",
    "    regime=[0.980, 0.990, 1.0] for middle scale turbulence\n",
    "    regime=[0.010, 0.020, 1.0] for small  scale turbulence\n",
    "\"\"\"\n",
    "    beta = np.array(beta, np.float32)\n",
    "    regime = np.array(regime, np.float32)\n",
    "    length, width = shape\n",
    "\n",
    "    # simulate a uniform random signal\n",
    "    h = np.random.rand(length, width)\n",
    "    H = np.fft.fft2(h) #compute one-dimensional discrete Fourier Transform.\n",
    "    H = np.fft.fftshift(H) #Shift the zero-frequency component to the center of the spectrum.\n",
    "\n",
    "    # scale the spectrum with the power law\n",
    "    yy, xx = np.mgrid[0:length-1:length*1j,\n",
    "                      0:width-1:width*1j].astype(np.float32)\n",
    "    yy -= np.rint(length/2) #Round elements of the array to the nearest integer.\n",
    "    xx -= np.rint(width/2)\n",
    "    xx *= resolution\n",
    "    yy *= resolution\n",
    "    k = np.sqrt(np.square(xx) + np.square(yy))    #pixel-wise distance in m\n",
    "\n",
    "    \"\"\"\n",
    "    beta+1 is used as beta, since, the power exponent\n",
    "    is defined for a 1D slice of the 2D spectrum:\n",
    "    austin94: \"Adler, 1981, shows that the surface profile \n",
    "      created by the intersection of a plane and a\n",
    "      2-D fractal surface is itself fractal with \n",
    "      a fractal dimension equal to that of the 2D \n",
    "      surface decreased by one.\n",
    "    \"\"\"\n",
    "    beta += 1.\n",
    "\n",
    "    \"\"\"\n",
    "    The power beta/2 is used because the power spectral\n",
    "    density is proportional to the amplitude squared \n",
    "    Here we work with the amplitude, instead of the power\n",
    "    so we should take sqrt( k.^beta) = k.^(beta/2)  RH\n",
    "    \"\"\"\n",
    "    beta /= 2.\n",
    "\n",
    "    kmax = np.max(k)\n",
    "    k1 = max(regime[0] * kmax, 4 * resolution) # This variable represents the lower cutoff wavenumber.\n",
    "    k2 = regime[1] * kmax #This variable represents the upper cutoff wavenumber. \n",
    "\n",
    "    regime1 = k <= k1\n",
    "    regime2 = np.multiply(k >= k1, k <= k2)\n",
    "    regime3 = k >= k2\n",
    "\n",
    "    fraction1 = np.power(k[regime1], beta[0]) #the fraction of wavenumbers (k) that fall within the range defined by the first regime.\n",
    "    fraction2 = np.power(k[regime2], beta[1])\n",
    "    fraction3 = np.power(k[regime3], beta[2])\n",
    "\n",
    "    fraction = np.zeros(k.shape, np.float32)\n",
    "    fraction[regime1] = fraction1\n",
    "    fraction[regime2] = fraction2 / np.min(fraction2) * np.max(fraction[regime1])\n",
    "    fraction[regime3] = fraction3 / np.min(fraction3) * np.max(fraction[regime2])\n",
    "\n",
    "    # prevent dividing by zero\n",
    "    fraction[fraction == 0.] = 1.\n",
    "\n",
    "    # get the fractal spectrum and transform to spatial domain\n",
    "    Hfrac = np.divide(H, fraction)\n",
    "    fsurf = np.fft.ifft2(Hfrac)\n",
    "    fsurf = np.abs(fsurf)  #, dtype=np.float32)\n",
    "    fsurf -= np.mean(fsurf)\n",
    "\n",
    "    # calculate the power spectral density of 1st realization\n",
    "    p1 = get_power_spectral_density(fsurf, resolution=resolution, freq0=freq0, display=display, outfig=figname)[0]\n",
    "\n",
    "    # scale the spectrum to match the input power spectral density.\n",
    "    Hfrac *= np.sqrt(p0/p1)\n",
    "    fsurf = np.fft.ifft2(Hfrac)\n",
    "    fsurf = np.abs(fsurf) #, dtype=np.float32)\n",
    "    fsurf -= np.mean(fsurf)\n",
    "    return fsurf "
   ]
  },
  {
   "cell_type": "markdown",
   "id": "4656e63c",
   "metadata": {},
   "source": [
    "The behavior of atmospheric signal in radar interferograms can be mathematically described using several interrelated measures such as the power spectrum, the covariance function, the structure function, and the fractal dimension. \n",
    "\n",
    "The power spectrum is useful to recognize scaling properties of the data or to distinguish different scaling regimes. Such Fourier-domain representations enable elegant descriptions of, e.g., filter operations and fast processing algorithms. A disadvantage is that Fourier methods require data sampled on a regular grid (Chilès and Delfiner, 1999). The spectrum of the grid is identical to the spectrum of the underlying continuous signal only if frequencies higher than the Nyquist frequency do not occur in the signal, either because they do not exist or because they are removed before sampling. Hence, the bandwidth of the grid spectrum needs to be smaller than the Nyquist frequency.\n",
    "For the SAR data this condition is usually satisfied."
   ]
  },
  {
   "cell_type": "code",
   "execution_count": null,
   "id": "ff767423",
   "metadata": {},
   "outputs": [],
   "source": []
  },
  {
   "cell_type": "markdown",
   "id": "84fa654e",
   "metadata": {},
   "source": [
    "Explaination for spectrum in regime explanation:\n",
    "\n",
    "Spectrum: The spectrum refers to the range of scales or frequencies present in the fractal surface. In this context, it represents the distribution of amplitudes or intensities of fluctuations at different scales.\n",
    "\n",
    "By specifying different values for the regime parameter, you can control the distribution of power law exponents across the spectrum, which in turn affects the behavior of the fractal surface at different scales."
   ]
  },
  {
   "cell_type": "markdown",
   "id": "f2c0f666",
   "metadata": {},
   "source": [
    "- how does The fractal surface represents turbulence at different scales\n",
    "\n",
    "ChatGPT\n",
    "+ The fractal surface represents turbulence at different scales by simulating a self-similar pattern with a power law behavior. Turbulence is a complex phenomenon characterized by irregular fluctuations in fluid flow or other physical quantities. It exhibits similar patterns and statistical properties at different scales, which is known as self-similarity. In the context of the fractal surface simulation, the power law behavior is used to capture the statistical properties of turbulence at different scales. The power law describes the relationship between the amplitude or intensity of fluctuations and their spatial or temporal scales. In the given code, three power law exponents (beta) are used to define the behavior of the fractal surface at different scales. The power law exponents determine how the amplitude of fluctuations changes as the scale varies. A higher exponent corresponds to a steeper power law, indicating stronger fluctuations at smaller scales. Conversely, a lower exponent represents smoother variations at larger scales. By incorporating different power law exponents and defining specific regimes (ranges of scales) for each exponent, the fractal surface simulates turbulence at multiple scales. The resulting surface exhibits self-similar patterns and statistical properties consistent with the chosen power law exponents, capturing the behavior of turbulence across a range of scales.\n",
    "\n",
    "\n",
    "\n"
   ]
  },
  {
   "cell_type": "markdown",
   "id": "503b380d",
   "metadata": {},
   "source": [
    "Power law behaviour :\n",
    "In statistics, a power law is a functional relationship between two quantities, where a relative change in one quantity results in a relative change in the other quantity proportional to a power of the change, independent of the initial size of those quantities: one quantity varies as a power of another. For instance, considering the area of a square in terms of the length of its side, if the length is doubled, the area is multiplied by a factor of four.\n",
    "\n"
   ]
  }
 ],
 "metadata": {
  "kernelspec": {
   "display_name": "Python 3 (ipykernel)",
   "language": "python",
   "name": "python3"
  },
  "language_info": {
   "codemirror_mode": {
    "name": "ipython",
    "version": 3
   },
   "file_extension": ".py",
   "mimetype": "text/x-python",
   "name": "python",
   "nbconvert_exporter": "python",
   "pygments_lexer": "ipython3",
   "version": "3.9.9"
  }
 },
 "nbformat": 4,
 "nbformat_minor": 5
}
