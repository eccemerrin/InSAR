{
 "cells": [
  {
   "cell_type": "markdown",
   "id": "5c1e68c2",
   "metadata": {},
   "source": [
    "# Simulation Script\n",
    "\n",
    "This file contains simulaiton codes and explanations of codes "
   ]
  },
  {
   "cell_type": "markdown",
   "id": "fb86d871",
   "metadata": {},
   "source": [
    "### Imports:"
   ]
  },
  {
   "cell_type": "markdown",
   "id": "b11d784f",
   "metadata": {},
   "source": [
    "Here you will need sim_fractal file to run this notebook. That file contains green fucntion solutions which will be needed to determine faults movement."
   ]
  },
  {
   "cell_type": "code",
   "execution_count": 1,
   "id": "a1f183b2",
   "metadata": {},
   "outputs": [],
   "source": [
    "import os.path\n",
    "import numpy as np\n",
    "from timeit import default_timer as timer\n",
    "import matplotlib.pyplot as plt\n",
    "import matplotlib\n",
    "import matplotlib.dates  as pdt\n",
    "from scipy.interpolate import griddata\n",
    "from pyrocko import gf\n",
    "import sim_fractal as frct"
   ]
  },
  {
   "cell_type": "markdown",
   "id": "d8e56da3",
   "metadata": {},
   "source": [
    "## Let's start:"
   ]
  },
  {
   "cell_type": "markdown",
   "id": "adfcba56",
   "metadata": {},
   "source": [
    "In the below cell, we define **store_id**. \n",
    "\n",
    "This store_id is used by pyrocko to download necessary file. In our case **store_id** is  **'gfs_ismetpasa'** since we are going to validate our results using real ismetpaşa data."
   ]
  },
  {
   "cell_type": "code",
   "execution_count": 2,
   "id": "deb0283f",
   "metadata": {},
   "outputs": [],
   "source": [
    "# Download a Greens Functions store\n",
    "store_id = 'gfs_ismetpasa' \n",
    "if not os.path.exists(store_id):\n",
    "    gf.ws.download_gf_store(site='kinherd', store_id=store_id)"
   ]
  },
  {
   "cell_type": "code",
   "execution_count": 3,
   "id": "012e55e4",
   "metadata": {},
   "outputs": [],
   "source": [
    "# Setup the LocalEngine and point it to the fomosto store you just downloaded.\n",
    "# *store_superdirs* is a list of directories where to look for GF Stores.\n",
    "engine = gf.LocalEngine(store_superdirs=['.'])"
   ]
  },
  {
   "cell_type": "markdown",
   "id": "eb81ba5d",
   "metadata": {},
   "source": [
    "Again, we are defining some constant. Here, slip corresponds to slip amount of three different layers. Each slip value is in mm.\n",
    "\n",
    "\n",
    "**Caution:** All of those constants are defined for one year period. In case you want to determine slip amounts for a smaller interval you should divide the slip value with 365.25 and  multiply with lenght of time interval in terms of day. \n",
    "\n",
    "$$ \\text{slip for specific interval} = \\frac{\\text{slip  value}}{365.25}* \\text{time interval}$$"
   ]
  },
  {
   "cell_type": "code",
   "execution_count": 4,
   "id": "2ec21859",
   "metadata": {},
   "outputs": [
    {
     "name": "stdout",
     "output_type": "stream",
     "text": [
      "[0.022, 0.015, 0.005]\n"
     ]
    }
   ],
   "source": [
    "km = 1e3       # for convenience\n",
    "yr = 365.25    # year length in day\n",
    "slip = [0.022, 0.015, 0.005] #kayma değerleri\n",
    "print(slip)"
   ]
  },
  {
   "cell_type": "markdown",
   "id": "d3670e23",
   "metadata": {},
   "source": [
    "Here, we are creating temporal table, which gives information about our time flow.\n",
    "\n",
    "Here, \n",
    "* Ndate,   how many image will be produced\n",
    "* TempRsl, Temporal resolution, how long it takes for satellite to come back, in terms of day, \n",
    "* maxPB,   Perpendicular Baseline, the perpendicular distance between two passing of satellite from the same location.\n",
    "\n",
    "For detailed iformation you can check the summary in the wiki page.\n"
   ]
  },
  {
   "cell_type": "code",
   "execution_count": 5,
   "id": "95b2db58",
   "metadata": {},
   "outputs": [],
   "source": [
    "###  create Temporal Table and Perpendicular Baselines \n",
    "Ndate   = 10 # 10, kaç tane image ürettiği, 10 tane olma sebebi ilkinde boş olacak kendinden \n",
    "TempRsl = 72 #uydunun kaç günde döndüğü\n",
    "maxPB   = 250 #max perpendicular baseline \n",
    "\n",
    "TempTbl = np.linspace(0, Ndate-1, Ndate) * TempRsl\n",
    "PerpBsl = np.random.randint(-maxPB, maxPB,size=Ndate)"
   ]
  },
  {
   "cell_type": "code",
   "execution_count": 6,
   "id": "568b8644",
   "metadata": {},
   "outputs": [
    {
     "data": {
      "text/plain": [
       "array([  0.,  72., 144., 216., 288., 360., 432., 504., 576., 648.])"
      ]
     },
     "execution_count": 6,
     "metadata": {},
     "output_type": "execute_result"
    }
   ],
   "source": [
    "TempTbl"
   ]
  },
  {
   "cell_type": "markdown",
   "id": "ffdc646d",
   "metadata": {},
   "source": [
    "As you see we have created a temporal table with 72 day interval."
   ]
  },
  {
   "cell_type": "markdown",
   "id": "4afed236",
   "metadata": {},
   "source": [
    "Below, we are giving the inital time for the first image. Then using temporal table, we get the date for other passing of satellite.\n",
    "\n",
    "* PrmDt, data of first image\n",
    "* PrmNum, PrmDt in terms of day\n",
    "* ifgsNum, dates of interferogram shots, in terms of day\n",
    "* ifgsDtNum, dates of interferogra shots, in terms of date\n"
   ]
  },
  {
   "cell_type": "code",
   "execution_count": 7,
   "id": "6745e37d",
   "metadata": {},
   "outputs": [],
   "source": [
    "###  change the Primary (master)\n",
    "Prm = 0\n",
    "PrmDt = '2018-05-12'\n",
    "\n",
    "TempTbl   = np.subtract(TempTbl,TempTbl[Prm])\n",
    "PrmNum    = pdt.datestr2num(PrmDt) \n",
    "ifgsNum   = np.add(TempTbl,PrmNum)\n",
    "ifgsDtNum = pdt.num2date(ifgsNum)\n",
    "ifgsDt = []\n",
    "\n",
    "for i in range(len(TempTbl)):\n",
    "\tifgDt = str(ifgsDtNum[i].year)+'-'+str(ifgsDtNum[i].month)+'-'+str(ifgsDtNum[i].day)\n",
    "\tifgsDt.append(ifgDt)\n",
    "\n",
    "PerpBsl[Prm] = 0"
   ]
  },
  {
   "cell_type": "markdown",
   "id": "4e0b5445",
   "metadata": {},
   "source": [
    "In some faults, we see creeps which last for some time and then stop and start moving again. \n",
    "Here we are calculating the displacement of creep in time.  ???????????\n",
    "\n",
    "\n",
    "Here,\n",
    "* step, time between two creep \n",
    "* N, length of episodic creep events in day\n",
    "* crpSlip, slip amount\n",
    "* crpStart, ?????????????\n",
    "* X, ??????????????\n",
    "* Y, ???????????"
   ]
  },
  {
   "cell_type": "code",
   "execution_count": 8,
   "id": "07fc4e9c",
   "metadata": {},
   "outputs": [],
   "source": [
    "###   Calculate Episodic Creep events \n",
    "step = 45 \n",
    "N = 5 \n",
    "crpSlip  = slip[2]/N   \n",
    "crpStart = np.arange(2*N,int(np.max(ifgsNum))-int(np.min(ifgsNum))-3, step)\n",
    "X =  np.arange(1,int(np.max(ifgsNum))-int(np.min(ifgsNum)))\n",
    "Y = np.zeros(len(X), np.float32)  \n",
    "\n",
    "for i in crpStart:\n",
    "\tY[i-N:i+N] = np.logical_and(X[i-N:i+N]>=i-int(N/2),X[i-N:i+N]<=i+int(N/2)-1)\n",
    "\tY[i-N:i+N] = Y[i-N:i+N] * np.bartlett((i+N)-(i-N))*crpSlip\n"
   ]
  },
  {
   "cell_type": "markdown",
   "id": "f188b70d",
   "metadata": {},
   "source": [
    "Here we are just defining coordinate system.\n",
    "\n",
    "For example, in the code below, our pixel will cover an area of 20 km-20km East-West, and 20km-20 km North-South"
   ]
  },
  {
   "cell_type": "code",
   "execution_count": 9,
   "id": "3be164a5",
   "metadata": {},
   "outputs": [],
   "source": [
    "###  GEOgraphic (Ellipsoidal) Coordinate System \n",
    "E = [-20*km, 20*km] \n",
    "N = [-20*km, 20*km]\n",
    "\n",
    "grdSize      = 1*km  #pixel size\n",
    "Egrid, Ngrid = np.mgrid[E[0]:E[1]:grdSize, N[0]:N[1]:grdSize]\n",
    "Esize, Nsize = Egrid.shape"
   ]
  },
  {
   "cell_type": "markdown",
   "id": "ef7c16fd",
   "metadata": {},
   "source": [
    "In the below, you will find details to define satellite object. We initialize the satellite target and set the line of sight vectors direction. \n",
    "\n",
    "* look, angle between the LOS and the vertical, the difference between the first and second index must be at least 20 degrees.\n",
    "* heading, angle between the azimuth and the North (anti-clock), here it is defined for 3 satellite, plus and minus corresponds to ascending and descending motion of satellite.\n",
    "* lookA, look angle converted into radian\n",
    "\n"
   ]
  },
  {
   "cell_type": "code",
   "execution_count": 10,
   "id": "199ec925",
   "metadata": {},
   "outputs": [],
   "source": [
    "look    = [33., 54]\n",
    "heading = [-166, -90, -14, 14, 90, 166] \n",
    "                                        \n",
    "###  look angel is converted to Radian\n",
    "lookA = np.tile(np.linspace(np.deg2rad(look[0]), np.deg2rad(look[1]), Esize), Nsize)  # vertical LOS from horizontal"
   ]
  },
  {
   "cell_type": "markdown",
   "id": "63db6bc8",
   "metadata": {},
   "source": [
    "Now, we are going to calculate position of satellites. "
   ]
  },
  {
   "cell_type": "code",
   "execution_count": 11,
   "id": "4412df47",
   "metadata": {},
   "outputs": [],
   "source": [
    "STLT=[] \n",
    "for i in range(len(heading)):\n",
    "    phi = np.empty(Esize*Nsize)    # horizontal LOS from E in anti-clokwise rotation\n",
    "    phi.fill(np.deg2rad(heading[i-1]))\n",
    "    satellite_target = gf.SatelliteTarget(north_shifts=Ngrid,east_shifts=Egrid,tsnapshot=24. * 3600.,  # one day\n",
    "                                    interpolation='nearest_neighbor', phi=phi,theta=lookA,store_id=store_id)\n",
    "    STLT.append(satellite_target)"
   ]
  },
  {
   "cell_type": "markdown",
   "id": "ef18c220",
   "metadata": {},
   "source": [
    "Here we are defining some properties of fault.\n",
    "* L[0] -> lenght of inersiesmic part // L[1] -> length of creeping patches,\n",
    "    * L in general define lenght of creeping patches\n",
    "* Wdth, width of fault\n",
    "* Dpth, distance of fault from the ground\n",
    "* strk, strike, the angle between the North and fault\n",
    "* dp, dip angle, angle between the fault and the normal to the ground\n",
    "* rk, rake, angle between the horizon of fault plane and the motion"
   ]
  },
  {
   "cell_type": "markdown",
   "id": "bd22885e",
   "metadata": {},
   "source": [
    "????????? buraya açıklama ekle, bub aşağıdaki cell ne yapıyor\n"
   ]
  },
  {
   "cell_type": "code",
   "execution_count": 12,
   "id": "4cb515eb",
   "metadata": {},
   "outputs": [],
   "source": [
    "L = np.multiply([50, 5], km) \n",
    "Wdth = np.multiply([100., 5.], km); \n",
    "Dpth = [Wdth[0]/2+10*km, Wdth[1]/2+0.5*km]\n",
    "strk=80.; dp=89.; rk=160.; Nshift = 5; crpMax = slip[1]; epsCrpId = [3,6];\n",
    "\n",
    "CRP = np.zeros((Nshift*2-1), np.float32)\n",
    "CRP[0] = crpMax\n",
    "shift = np.zeros((Nshift*2-1,2), np.float32)\n",
    "n = 1\n",
    "for i in range(1, len(shift),2):\n",
    "\tstep = n*L[1]\n",
    "\tCRP[i] = crpMax - (n*(crpMax/Nshift))\n",
    "\tCRP[i+1] = crpMax - (n*(crpMax/Nshift))\n",
    "\tshift[i,:] = np.multiply(step,[np.cos(np.deg2rad(90 - strk)), np.sin(np.deg2rad(90 - strk))])\n",
    "\tshift[i+1,:] = np.multiply(step*-1,[np.cos(np.deg2rad(90 - strk)), np.sin(np.deg2rad(90 - strk))])\n",
    "\tn += 1\n"
   ]
  },
  {
   "cell_type": "markdown",
   "id": "485a09b6",
   "metadata": {},
   "source": [
    "Now is the fun part. Here we are starting to calculate interferograms. "
   ]
  },
  {
   "cell_type": "code",
   "execution_count": 15,
   "id": "88b5a38a",
   "metadata": {},
   "outputs": [],
   "source": [
    "VlosUltimate = []\n",
    "for i in range(5):\n",
    "    \n",
    "    satellite_target=STLT[i%6] #we are assigning the satellite. \n",
    "    Vlos=[]\n",
    "    target=0\n",
    "    for ifg in np.arange(len(TempTbl)): #now, since we are creating batches of 10 interferograms this should be \n",
    "                                        #equal to the number of interferograms in a batch.\n",
    "        t = np.abs(TempTbl[ifg])\n",
    "        if ifg == 0:\n",
    "            continue\n",
    "\n",
    "        intSlip = (slip[0]/yr)*t\n",
    "        if   ifg < Prm:\n",
    "            epsCrp  = np.sum(Y[ifg:Prm])\n",
    "        elif ifg > Prm:\n",
    "            epsCrp  = np.sum(Y[Prm:int(t)])\n",
    "\n",
    "        start = timer()\n",
    "\n",
    "        intS_source = gf.RectangularSource( lat=0., lon=0., north_shift=0., east_shift=0.,\n",
    "                    depth=Dpth[0], width=Wdth[0], length=L[0], dip=dp, rake=rk, strike=strk, slip=intSlip)\n",
    "        intS_result = engine.process(intS_source, [satellite_target])\n",
    "        lat = intS_result.request.targets[target].coords5[:, 2]/km\n",
    "        lon = intS_result.request.targets[target].coords5[:, 3]/km\n",
    "        intS_los = intS_result.results_list[0][target].result['displacement.los']\n",
    "        \n",
    "    ###  LOCKed PART is not SLIPing so skipp\n",
    "    ###  PATCH no : 2\n",
    "    ###  CREEPING PATCHES\n",
    "    \n",
    "        crp_los = np.zeros(Esize*Nsize, np.float32)\n",
    "        for i in range(len(CRP)):\n",
    "            if (i in epsCrpId):\n",
    "                #print('This patch has episodic creep')\n",
    "                continue\n",
    "\n",
    "            crp = CRP[i]/yr*t\n",
    "            patchCrp_source = gf.RectangularSource( lat=0, lon=0, north_shift=shift[i,1], east_shift=shift[i,0],\n",
    "                    depth=Dpth[1], width=Wdth[1], length=L[1], dip=dp, rake=rk, strike=strk, slip=crp)\n",
    "            patchCrp_result = engine.process(patchCrp_source, [satellite_target])\n",
    "            patchCrp_los = patchCrp_result.results_list[0][target].result\n",
    "            crp_los = crp_los + patchCrp_los['displacement.los']\n",
    "\n",
    "    ###  EPISODIC CREEPING PATCHES\n",
    "        epsCrp_los = np.zeros(Esize*Nsize, np.float32)\n",
    "        sorce_ne   = np.zeros((5,len(epsCrpId)*2), np.float32)\n",
    "        for i in range(len(epsCrpId)):\n",
    "            patchEpsCrp_source = gf.RectangularSource( lat=0, lon=0, north_shift=shift[epsCrpId[i],1], east_shift=shift[epsCrpId[i],0],\n",
    "                    depth=Dpth[1], width=Wdth[1], length=L[1], dip=dp, rake=rk, strike=strk, slip=epsCrp)\n",
    "            patchEpsCrp_result = engine.process(patchEpsCrp_source, [satellite_target])\n",
    "            patchEpsCrp_los = patchEpsCrp_result.results_list[0][target].result\n",
    "            epsCrp_los = epsCrp_los + patchEpsCrp_los['displacement.los']\n",
    "            sorce_ne[:,i*2], sorce_ne[:,i*2+1] = patchEpsCrp_source.outline(cs='xy').T/km\n",
    "    ###  get coordinates of fault patches\n",
    "    ###  get target coordinates and displacements from results\n",
    "        Dlos = (intS_los + crp_los + epsCrp_los)*km\n",
    "        Vlos.append(Dlos)\n",
    "        \n",
    "    VlosUltimate.append(np.array(Vlos).reshape((9,40,40)))"
   ]
  },
  {
   "cell_type": "markdown",
   "id": "901630d0",
   "metadata": {},
   "source": [
    "Below cell creates tropospheric noise."
   ]
  },
  {
   "cell_type": "code",
   "execution_count": 16,
   "id": "ebd993b8",
   "metadata": {},
   "outputs": [],
   "source": [
    "###  Tropospheri Turbulance \n",
    "\n",
    "trbc_list  = []\n",
    "for i in range(180):\n",
    "    \n",
    "    trbl = frct.fractal_surface_atmos(shape=(Nsize, Esize), resolution=grdSize/10, p0=1.00, freq0=1e-3,\n",
    "                                      regime=(0.01, 0.9999, 1.0), beta=(5./3., 8./3., 2./3.))\n",
    "    trbc_list.append(trbl)\n"
   ]
  },
  {
   "cell_type": "markdown",
   "id": "180d0cea",
   "metadata": {},
   "source": [
    "## Just for sanity check"
   ]
  },
  {
   "cell_type": "markdown",
   "id": "199afa21",
   "metadata": {},
   "source": [
    "### Just displacement"
   ]
  },
  {
   "cell_type": "code",
   "execution_count": 17,
   "id": "468e607b",
   "metadata": {},
   "outputs": [
    {
     "data": {
      "image/png": "[encoded data removed]",
      "text/plain": [
       "<Figure size 1300x100 with 9 Axes>"
      ]
     },
     "metadata": {},
     "output_type": "display_data"
    }
   ],
   "source": [
    "fig, (s0,s1,s2,s3,s4,s5,s6,s7,s8) = plt.subplots(1, 9, figsize = (13,1))\n",
    "i=3\n",
    "s0.title.set_text('displacement  ')\n",
    "s0.imshow(VlosUltimate[i][0], interpolation=\"nearest\")\n",
    "s0.invert_yaxis()\n",
    "s1.imshow(VlosUltimate[i][1].reshape(Egrid.shape, order = \"F\"), interpolation=\"nearest\")\n",
    "s1.invert_yaxis()\n",
    "s2.imshow(VlosUltimate[i][2].reshape(Egrid.shape, order = \"F\"), interpolation=\"nearest\")\n",
    "s2.invert_yaxis()\n",
    "s3.imshow(VlosUltimate[i][3].reshape(Egrid.shape, order = \"F\"), interpolation=\"nearest\")\n",
    "s3.invert_yaxis()\n",
    "s4.imshow(VlosUltimate[i][4].reshape(Egrid.shape, order = \"F\"), interpolation=\"nearest\")\n",
    "s4.invert_yaxis()\n",
    "s5.imshow(VlosUltimate[i][5].reshape(Egrid.shape, order = \"F\"), interpolation=\"nearest\")\n",
    "s5.invert_yaxis()\n",
    "s6.imshow(VlosUltimate[i][6].reshape(Egrid.shape, order = \"F\"), interpolation=\"nearest\")\n",
    "s6.invert_yaxis()\n",
    "s7.imshow(VlosUltimate[i][7].reshape(Egrid.shape, order = \"F\"), interpolation=\"nearest\")\n",
    "s7.invert_yaxis()\n",
    "s8.imshow(VlosUltimate[i][8].reshape(Egrid.shape, order = \"F\"), interpolation=\"nearest\")\n",
    "s8.invert_yaxis()\n",
    "\n",
    "plt.show()\n",
    "\n"
   ]
  },
  {
   "cell_type": "markdown",
   "id": "9630d962",
   "metadata": {},
   "source": [
    "### displacement + noise"
   ]
  },
  {
   "cell_type": "code",
   "execution_count": 23,
   "id": "bc9fe380",
   "metadata": {},
   "outputs": [],
   "source": [
    "new_data = np.zeros((5,9,40,40))\n",
    "for i in range(45):\n",
    "    new_data[i//9][i - (i//9) * 9] = np.array(trbc_list[i]) + np.array(VlosUltimate[i//9][i - (i//9) * 9])"
   ]
  },
  {
   "cell_type": "code",
   "execution_count": 24,
   "id": "bca207f6",
   "metadata": {},
   "outputs": [
    {
     "data": {
      "image/png": "[encoded data removed]",
      "text/plain": [
       "<Figure size 1300x100 with 9 Axes>"
      ]
     },
     "metadata": {},
     "output_type": "display_data"
    }
   ],
   "source": [
    "fig, (s0,s1,s2,s3,s4,s5,s6,s7,s8) = plt.subplots(1, 9, figsize = (13,1))\n",
    "i=4\n",
    "s0.title.set_text('displacement + noise  ')\n",
    "s0.imshow(new_data[i][0], interpolation=\"nearest\")\n",
    "s0.invert_yaxis()\n",
    "s1.imshow(new_data[i][1], interpolation=\"nearest\")\n",
    "s1.invert_yaxis()\n",
    "s2.imshow(new_data[i][2], interpolation=\"nearest\")\n",
    "s2.invert_yaxis()\n",
    "s3.imshow(new_data[i][3], interpolation=\"nearest\")\n",
    "s3.invert_yaxis()\n",
    "s4.imshow(new_data[i][4], interpolation=\"nearest\")\n",
    "s4.invert_yaxis()\n",
    "s5.imshow(new_data[i][5], interpolation=\"nearest\")\n",
    "s5.invert_yaxis()\n",
    "s6.imshow(new_data[i][6], interpolation=\"nearest\")\n",
    "s6.invert_yaxis()\n",
    "s7.imshow(new_data[i][7], interpolation=\"nearest\")\n",
    "s7.invert_yaxis()\n",
    "s8.imshow(new_data[i][8], interpolation=\"nearest\")\n",
    "s8.invert_yaxis()\n",
    "\n",
    "plt.show()"
   ]
  },
  {
   "cell_type": "code",
   "execution_count": null,
   "id": "fe2f4687",
   "metadata": {},
   "outputs": [],
   "source": []
  }
 ],
 "metadata": {
  "kernelspec": {
   "display_name": "Python 3 (ipykernel)",
   "language": "python",
   "name": "python3"
  },
  "language_info": {
   "codemirror_mode": {
    "name": "ipython",
    "version": 3
   },
   "file_extension": ".py",
   "mimetype": "text/x-python",
   "name": "python",
   "nbconvert_exporter": "python",
   "pygments_lexer": "ipython3",
   "version": "3.10.5"
  }
 },
 "nbformat": 4,
 "nbformat_minor": 5
}
